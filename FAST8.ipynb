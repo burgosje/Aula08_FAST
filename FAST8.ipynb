{
  "nbformat": 4,
  "nbformat_minor": 0,
  "metadata": {
    "colab": {
      "provenance": [],
      "authorship_tag": "ABX9TyPWyU9gXVgSX4pR5dAzMeGI",
      "include_colab_link": true
    },
    "kernelspec": {
      "name": "python3",
      "display_name": "Python 3"
    },
    "language_info": {
      "name": "python"
    }
  },
  "cells": [
    {
      "cell_type": "markdown",
      "metadata": {
        "id": "view-in-github",
        "colab_type": "text"
      },
      "source": [
        "<a href=\"https://colab.research.google.com/github/burgosje/Aula08_FAST/blob/main/FAST8.ipynb\" target=\"_parent\"><img src=\"https://colab.research.google.com/assets/colab-badge.svg\" alt=\"Open In Colab\"/></a>"
      ]
    },
    {
      "cell_type": "markdown",
      "source": [
        "Aula 08 do FAST Transição do Cesar School"
      ],
      "metadata": {
        "id": "Hlg-MqCTVNVG"
      }
    },
    {
      "cell_type": "markdown",
      "source": [
        "Numpy"
      ],
      "metadata": {
        "id": "bmMrsKZDw8ss"
      }
    },
    {
      "cell_type": "markdown",
      "source": [
        "Array só pode ter dados do mesmo tipo"
      ],
      "metadata": {
        "id": "heE02KtuxJ7z"
      }
    },
    {
      "cell_type": "code",
      "execution_count": null,
      "metadata": {
        "colab": {
          "base_uri": "https://localhost:8080/"
        },
        "id": "4u_B_1qywGOd",
        "outputId": "283fa4c3-1e27-409c-955d-65fe3c204baa"
      },
      "outputs": [
        {
          "output_type": "stream",
          "name": "stdout",
          "text": [
            "Soma dos arrays:  [ 7  9 11 13 15]\n"
          ]
        }
      ],
      "source": [
        "import numpy as np\n",
        "\n",
        "arr1 = np.array([1, 2, 3, 4, 5])\n",
        "arr2 = np.array([6, 7, 8, 9, 10])\n",
        "arr3 = np.array([1, 2, 3])\n",
        "\n",
        "soma = arr1 + arr2\n",
        "print(\"Soma dos arrays: \",soma)"
      ]
    },
    {
      "cell_type": "code",
      "source": [
        "import numpy as np\n",
        "\n",
        "arr1 = np.array([1, 2, 3, 4])\n",
        "arr2 = np.array([5, 6, 7, 8])\n",
        "\n",
        "#Soma\n",
        "soma = arr1 + arr2\n",
        "print(f\"A soma é {soma}\")\n",
        "\n",
        "#Subtração\n",
        "subtracao = arr1 - arr2\n",
        "print(f\"A subtração é {subtracao}\")\n",
        "\n",
        "#Multiplicação\n",
        "multiplicacao = arr1 * arr2\n",
        "print(f\"A multiplicação é {multiplicacao}\")\n",
        "\n",
        "#Divisão\n",
        "#np.round(divisao,2): função para arrays que define duas casas decimais\n",
        "#Pode ser que para usar :.2f não funciona no Colab ou precisa inserir uma biblioteca\n",
        "divisao = arr1 / arr2\n",
        "print(f\"A divisão é {np.round(divisao,2)}\")"
      ],
      "metadata": {
        "colab": {
          "base_uri": "https://localhost:8080/"
        },
        "id": "915hePA2zmDm",
        "outputId": "7b5f0f4d-b6ba-40eb-c4e4-38470295b8d3"
      },
      "execution_count": null,
      "outputs": [
        {
          "output_type": "stream",
          "name": "stdout",
          "text": [
            "A soma é [ 6  8 10 12]\n",
            "A subtração é [-4 -4 -4 -4]\n",
            "A multiplicação é [ 5 12 21 32]\n",
            "A divisão é [0.2  0.33 0.43 0.5 ]\n"
          ]
        }
      ]
    },
    {
      "cell_type": "code",
      "source": [
        "#Usando arrays com numpy faça média das notas de uma pessoa estudante\n",
        "\n",
        "import numpy as np\n",
        "\n",
        "notas = np.array([8.5, 6.5, 8.0, 10.0, 5.5])\n",
        "media_notas = np.mean(notas)\n",
        "print(f\"A média é {np.round(media_notas,2)}\")"
      ],
      "metadata": {
        "colab": {
          "base_uri": "https://localhost:8080/"
        },
        "id": "vdv5pVxZ14Du",
        "outputId": "bcdc9bb1-ec45-4252-b3c6-4991e7521af8"
      },
      "execution_count": null,
      "outputs": [
        {
          "output_type": "stream",
          "name": "stdout",
          "text": [
            "A média é 7.7\n"
          ]
        }
      ]
    },
    {
      "cell_type": "code",
      "source": [
        "#Crie um programa que utilize o NumPy para realizar análises específicas sobre as\n",
        "#notas, como calcula a média das notas dos três primeiros alunos e verificar\n",
        "#quais alunos tiraram notas acima de 7\n",
        "\n",
        "#lista nota\"S\"\n",
        "\n",
        "import numpy as np\n",
        "#Como já importou uma vez, não precisa importar de novo\n",
        "\n",
        "notas = []\n",
        "\n",
        "for i in range(5):\n",
        "  nota = float(input(\"Digite uma nota: \"))\n",
        "  notas.append(nota)\n",
        "#Uma nota vai sendo add por vez\n",
        "\n",
        "#Converter a lista em array\n",
        "notas = np.array(notas)\n",
        "#Calcular a média\n",
        "media_estudante = np.mean(notas[:3])\n",
        "\n",
        "nota_acima_sete = notas[:3]\n",
        "nota_acima_sete = nota_acima_sete[nota_acima_sete > 7]\n",
        "\n",
        "print(f\"A média dos 3 primeiros alunos foi {np.round(media_estudante,2)}\")\n",
        "print(f\"Alunos acima de 7 {nota_acima_sete}\")\n",
        "max = np.max(notas)\n",
        "print(f\"A nota máxima foi {max}\")\n",
        "min = np.min(notas)\n",
        "print(f\"A nota mínima foi {min}\")"
      ],
      "metadata": {
        "colab": {
          "base_uri": "https://localhost:8080/"
        },
        "id": "Rse-BtRh2sDT",
        "outputId": "fbddfcdd-9028-415f-88d2-e1ed65b4cb31"
      },
      "execution_count": null,
      "outputs": [
        {
          "output_type": "stream",
          "name": "stdout",
          "text": [
            "Digite uma nota: 10\n",
            "Digite uma nota: 8\n",
            "Digite uma nota: 9\n",
            "Digite uma nota: 5\n",
            "Digite uma nota: 6\n",
            "A média dos 3 primeiros alunos foi 9.0\n",
            "Alunos acima de 7 [10.  8.  9.]\n",
            "A nota máxima foi 10.0\n",
            "A nota mínima foi 5.0\n"
          ]
        }
      ]
    },
    {
      "cell_type": "markdown",
      "source": [
        "Introdução a Pandas"
      ],
      "metadata": {
        "id": "oUBVoCJL6-nB"
      }
    },
    {
      "cell_type": "code",
      "source": [
        "data = {\n",
        "    \"Nome\": [\"Alice\", \"Bob\", \"Charlie\", \"David\"],\n",
        "    \"Idade\": [25, 30, 35, 40],\n",
        "    \"Cidade\": [\"Nova York\", \"Los Angeles\", \"Chicago\", \"Detroit\"]\n",
        "}\n",
        "\n",
        "df = pd.DataFrame(data)\n",
        "print(df)"
      ],
      "metadata": {
        "colab": {
          "base_uri": "https://localhost:8080/"
        },
        "id": "8r5bk_Py67El",
        "outputId": "e807d907-2ce3-4bbe-8e72-05bf325ccc36"
      },
      "execution_count": null,
      "outputs": [
        {
          "output_type": "stream",
          "name": "stdout",
          "text": [
            "      Nome  Idade       Cidade\n",
            "0    Alice     25    Nova York\n",
            "1      Bob     30  Los Angeles\n",
            "2  Charlie     35      Chicago\n",
            "3    David     40      Detroit\n"
          ]
        }
      ]
    },
    {
      "cell_type": "code",
      "source": [
        "dados = {\n",
        "    \"Nome\": [\"Jé\", \"Maria\", \"João\"],\n",
        "    \"Cidade\": [\"Recife\", \"Porto Alegre\", \"Aracajú\"],\n",
        "    \"Idade\": [32, 30, 49],\n",
        "    \"Telefone\": [\"(81) 98374-2812\", \"(51) 98472-3920\", \"(01 95748-3921)\"]\n",
        "}\n",
        "#Criar dataframe\n",
        "df = pd.DataFrame(dados)\n",
        "print(df)"
      ],
      "metadata": {
        "colab": {
          "base_uri": "https://localhost:8080/"
        },
        "id": "LzJaINMd8TXq",
        "outputId": "b1a430c3-2059-411e-ccae-8b3601766957"
      },
      "execution_count": null,
      "outputs": [
        {
          "output_type": "stream",
          "name": "stdout",
          "text": [
            "    Nome        Cidade  Idade         Telefone\n",
            "0     Jé        Recife     32  (81) 98374-2812\n",
            "1  Maria  Porto Alegre     30  (51) 98472-3920\n",
            "2   João       Aracajú     49  (01 95748-3921)\n"
          ]
        }
      ]
    },
    {
      "cell_type": "code",
      "source": [
        "import pandas as pd\n",
        "\n",
        "estados_nordeste = [[\"Alagoas\", \"AL\", \"3,4 milhões\", \"Maceió\"],\n",
        "                    [\"Bahia\", \"BA\", \"15,4 milhões\", \"Salvador\"],\n",
        "                    [\"Ceará\", \"CE\", \"9,2 milhões\", \"Fortaleza\"]\n",
        "           ]\n",
        "\n",
        "#DataFrame\n",
        "df = pd.DataFrame(estados_nordeste,columns=[\"Estado\", \"Sigla\", \"População\", \"Capital\"])\n",
        "\n",
        "#adicionar uma informação/coluna\n",
        "idh = [0.631, 0.631, 0.682]\n",
        "df[\"IDH\"] = idh\n",
        "\n",
        "print(df)"
      ],
      "metadata": {
        "colab": {
          "base_uri": "https://localhost:8080/"
        },
        "id": "AhLZTag89d5b",
        "outputId": "9c1aad1a-1cf9-4e32-f854-ed946d3f8bf5"
      },
      "execution_count": null,
      "outputs": [
        {
          "output_type": "stream",
          "name": "stdout",
          "text": [
            "    Estado Sigla     População    Capital    IDH\n",
            "0  Alagoas    AL   3,4 milhões     Maceió  0.631\n",
            "1    Bahia    BA  15,4 milhões   Salvador  0.631\n",
            "2    Ceará    CE   9,2 milhões  Fortaleza  0.682\n"
          ]
        }
      ]
    },
    {
      "cell_type": "code",
      "source": [
        "import pandas as pd\n",
        "\n",
        "estados_nordeste = [[\"Alagoas\", \"AL\", \"3,4 milhões\", \"Maceió\"],\n",
        "                    [\"Bahia\", \"BA\", \"15,4 milhões\", \"Salvador\"],\n",
        "                    [\"Ceará\", \"CE\", \"9,2 milhões\", \"Fortaleza\"]\n",
        "           ]\n",
        "\n",
        "#DataFrame\n",
        "df = pd.DataFrame(estados_nordeste,columns=[\"Estado\", \"Sigla\", \"População\", \"Capital\"])\n",
        "\n",
        "#adicionar uma informação/coluna\n",
        "idh = [0.631, 0.631, 0.682]\n",
        "df[\"IDH\"] = idh\n",
        "\n",
        "#Imprimir um elemento\n",
        "print(df[\"Estado\"])"
      ],
      "metadata": {
        "colab": {
          "base_uri": "https://localhost:8080/"
        },
        "id": "xLDJym43ByD2",
        "outputId": "25d5f143-def9-4ac8-d47d-a042247096d7"
      },
      "execution_count": null,
      "outputs": [
        {
          "output_type": "stream",
          "name": "stdout",
          "text": [
            "0    Alagoas\n",
            "1      Bahia\n",
            "2      Ceará\n",
            "Name: Estado, dtype: object\n"
          ]
        }
      ]
    },
    {
      "cell_type": "code",
      "source": [
        "import pandas as pd\n",
        "\n",
        "estados_nordeste = [[\"Alagoas\", \"AL\", \"3,4 milhões\", \"Maceió\"],\n",
        "                    [\"Bahia\", \"BA\", \"15,4 milhões\", \"Salvador\"],\n",
        "                    [\"Ceará\", \"CE\", \"9,2 milhões\", \"Fortaleza\"]\n",
        "           ]\n",
        "\n",
        "#DataFrame\n",
        "df = pd.DataFrame(estados_nordeste,columns=[\"Estado\", \"Sigla\", \"População\", \"Capital\"])\n",
        "\n",
        "#adicionar uma informação/coluna\n",
        "idh = [0.631, 0.631, 0.682]\n",
        "df[\"IDH\"] = idh\n",
        "\n",
        "#Imprimir um elemento\n",
        "print(df[[\"Estado\", \"Sigla\"]])"
      ],
      "metadata": {
        "colab": {
          "base_uri": "https://localhost:8080/"
        },
        "id": "el1BuPOeCCrK",
        "outputId": "186e116b-63d7-4b03-dae7-43697f5f91a3"
      },
      "execution_count": null,
      "outputs": [
        {
          "output_type": "stream",
          "name": "stdout",
          "text": [
            "    Estado Sigla\n",
            "0  Alagoas    AL\n",
            "1    Bahia    BA\n",
            "2    Ceará    CE\n"
          ]
        }
      ]
    },
    {
      "cell_type": "code",
      "source": [
        "selecionar linhas\n",
        "\n",
        "dados de linha e coluna:\n",
        "loc\n",
        "\n",
        "\n",
        "iloc"
      ],
      "metadata": {
        "id": "5q5H0C1CCiW1"
      },
      "execution_count": null,
      "outputs": []
    },
    {
      "cell_type": "code",
      "source": [
        "import pandas as pd\n",
        "\n",
        "estados_nordeste = [[\"Alagoas\", \"AL\", \"3,4 milhões\", \"Maceió\"],\n",
        "                    [\"Bahia\", \"BA\", \"15,4 milhões\", \"Salvador\"],\n",
        "                    [\"Ceará\", \"CE\", \"9,2 milhões\", \"Fortaleza\"]\n",
        "           ]\n",
        "\n",
        "#DataFrame\n",
        "df = pd.DataFrame(estados_nordeste,columns=[\"Estado\", \"Sigla\", \"População\", \"Capital\"])\n",
        "\n",
        "print(df.loc[0])\n",
        "print(df.loc[2])"
      ],
      "metadata": {
        "colab": {
          "base_uri": "https://localhost:8080/"
        },
        "id": "G5Ccg2ctDAdh",
        "outputId": "8a9a42a4-db86-4b2f-cd0f-06dfa63acfae"
      },
      "execution_count": null,
      "outputs": [
        {
          "output_type": "stream",
          "name": "stdout",
          "text": [
            "Estado           Alagoas\n",
            "Sigla                 AL\n",
            "População    3,4 milhões\n",
            "Capital           Maceió\n",
            "Name: 0, dtype: object\n",
            "Estado             Ceará\n",
            "Sigla                 CE\n",
            "População    9,2 milhões\n",
            "Capital        Fortaleza\n",
            "Name: 2, dtype: object\n"
          ]
        }
      ]
    },
    {
      "cell_type": "code",
      "source": [
        "import pandas as pd\n",
        "\n",
        "estados_nordeste = [[\"Alagoas\", \"AL\", \"3,4 milhões\", \"Maceió\"],\n",
        "                    [\"Bahia\", \"BA\", \"15,4 milhões\", \"Salvador\"],\n",
        "                    [\"Ceará\", \"CE\", \"9,2 milhões\", \"Fortaleza\"]\n",
        "           ]\n",
        "\n",
        "#DataFrame\n",
        "df = pd.DataFrame(estados_nordeste,columns=[\"Estado\", \"Sigla\", \"População\", \"Capital\"])\n",
        "\n",
        "print(df.loc[1:2])"
      ],
      "metadata": {
        "colab": {
          "base_uri": "https://localhost:8080/"
        },
        "id": "DkeuBz-nDb9U",
        "outputId": "d15ae81f-832b-4f46-e294-f1bc95e3f859"
      },
      "execution_count": null,
      "outputs": [
        {
          "output_type": "stream",
          "name": "stdout",
          "text": [
            "  Estado Sigla     População    Capital\n",
            "1  Bahia    BA  15,4 milhões   Salvador\n",
            "2  Ceará    CE   9,2 milhões  Fortaleza\n"
          ]
        }
      ]
    },
    {
      "cell_type": "code",
      "source": [
        "import pandas as pd\n",
        "\n",
        "estados_nordeste = [[\"Alagoas\", \"AL\", \"3,4 milhões\", \"Maceió\"],\n",
        "                    [\"Bahia\", \"BA\", \"15,4 milhões\", \"Salvador\"],\n",
        "                    [\"Ceará\", \"CE\", \"9,2 milhões\", \"Fortaleza\"]\n",
        "           ]\n",
        "\n",
        "#DataFrame\n",
        "df = pd.DataFrame(estados_nordeste,columns=[\"Estado\", \"Sigla\", \"População\", \"Capital\"])\n",
        "\n",
        "print(df.loc[:1])"
      ],
      "metadata": {
        "colab": {
          "base_uri": "https://localhost:8080/"
        },
        "id": "70MYkXQ3DzDf",
        "outputId": "1bfaa306-cb2b-48f3-9b2d-f91e239d4b64"
      },
      "execution_count": null,
      "outputs": [
        {
          "output_type": "stream",
          "name": "stdout",
          "text": [
            "    Estado Sigla     População   Capital\n",
            "0  Alagoas    AL   3,4 milhões    Maceió\n",
            "1    Bahia    BA  15,4 milhões  Salvador\n"
          ]
        }
      ]
    },
    {
      "cell_type": "code",
      "source": [
        "import pandas as pd\n",
        "\n",
        "estados_nordeste = [[\"Alagoas\", \"AL\", \"3,4 milhões\", \"Maceió\"],\n",
        "                    [\"Bahia\", \"BA\", \"15,4 milhões\", \"Salvador\"],\n",
        "                    [\"Ceará\", \"CE\", \"9,2 milhões\", \"Fortaleza\"]\n",
        "           ]\n",
        "\n",
        "#DataFrame\n",
        "df = pd.DataFrame(estados_nordeste,columns=[\"Estado\", \"Sigla\", \"População\", \"Capital\"])\n",
        "\n",
        "print(df.loc[1:2,[\"Estado\", \"Sigla\"]])"
      ],
      "metadata": {
        "colab": {
          "base_uri": "https://localhost:8080/"
        },
        "id": "fUy0qF0pD7W2",
        "outputId": "33f7a83c-19bd-428b-a0ee-9ee99757aa67"
      },
      "execution_count": null,
      "outputs": [
        {
          "output_type": "stream",
          "name": "stdout",
          "text": [
            "  Estado Sigla\n",
            "1  Bahia    BA\n",
            "2  Ceará    CE\n"
          ]
        }
      ]
    },
    {
      "cell_type": "code",
      "source": [
        "#iloc\n",
        "#baseado na posição\n",
        "\n",
        "import pandas as pd\n",
        "\n",
        "estados_nordeste = [[\"Alagoas\", \"AL\", \"3,4 milhões\", \"Maceió\"],\n",
        "                    [\"Bahia\", \"BA\", \"15,4 milhões\", \"Salvador\"],\n",
        "                    [\"Ceará\", \"CE\", \"9,2 milhões\", \"Fortaleza\"]\n",
        "           ]\n",
        "\n",
        "#DataFrame\n",
        "df = pd.DataFrame(estados_nordeste,columns=[\"Estado\", \"Sigla\", \"População\", \"Capital\"])\n",
        "\n",
        "print(df.iloc[1:2, 0:2])"
      ],
      "metadata": {
        "id": "wylRn6fvEZVY",
        "colab": {
          "base_uri": "https://localhost:8080/"
        },
        "outputId": "7b9df105-e544-48a9-9a2a-43f6e4be6ec7"
      },
      "execution_count": 1,
      "outputs": [
        {
          "output_type": "stream",
          "name": "stdout",
          "text": [
            "  Estado Sigla\n",
            "1  Bahia    BA\n"
          ]
        }
      ]
    },
    {
      "cell_type": "code",
      "source": [
        "import pandas as pd\n",
        "\n",
        "estados_nordeste = [[\"Alagoas\", \"AL\", \"3,4 milhões\", \"Maceió\"],\n",
        "                    [\"Bahia\", \"BA\", \"15,4 milhões\", \"Salvador\"],\n",
        "                    [\"Ceará\", \"CE\", \"9,2 milhões\", \"Fortaleza\"]\n",
        "           ]\n",
        "\n",
        "#DataFrame\n",
        "df = pd.DataFrame(estados_nordeste,columns=[\"Estado\", \"Sigla\", \"População\", \"Capital\"])\n",
        "\n",
        "print(df.iloc[1:2, 0:3])"
      ],
      "metadata": {
        "id": "t72oNDVkE3oB",
        "colab": {
          "base_uri": "https://localhost:8080/"
        },
        "outputId": "c83d9c02-1f21-4665-cbbd-0666e49d2302"
      },
      "execution_count": 2,
      "outputs": [
        {
          "output_type": "stream",
          "name": "stdout",
          "text": [
            "  Estado Sigla     População\n",
            "1  Bahia    BA  15,4 milhões\n"
          ]
        }
      ]
    },
    {
      "cell_type": "code",
      "source": [
        "#Crie um DataFrame que represente informações sobre estudantes, incluindo nome,\n",
        "#idade e média de notas. Em seguida, realiza as seguintes tarefas:\n",
        "#Crie um DataFrame com os seguinte dados:\n",
        "#\n",
        "#Nome\n",
        "#Média de notas: 8.5, 7.8, 9.2, 6.5, 8.9\n",
        "#Adicione uma coluna chamada \"Status\" que contenha \"Aprovado\" para estudantes\n",
        "#com média de notas maior ou igual a 7.0 e \"Reprovado\" para os demais.\n",
        "#Selecione apenas os estudantes \"Aprovados\" e crie um novo DataFrame com esse\n",
        "#dados\n",
        "\n",
        "import pandas as pd\n",
        "\n",
        "alunes = [[\"Jé\", \"32\", \"8.5\"],\n",
        "              [\"Mari\", \"25\", \"7.8\"],\n",
        "              [\"Gi\", \"76\", \"9.2\"],\n",
        "              [\"Cup\", \"54\", \"6.5\",],\n",
        "              [\"Brianna\", \"45\", \"8.9\"]\n",
        "]\n",
        "\n",
        "df_alunes = pd.DataFrame(alunes,columns=[\"Nome\", \"Idade\", \"Média de notas\"])\n",
        "\n",
        "status = [\"Aprovade\", \"Aprovade\", \"Reprovade\", \"Reprovade\", \"Aprovade\"]\n",
        "df_alunes[\"Status\"] = status\n",
        "\n",
        "df_aprovades = df_alunes[df_alunes[\"Status\"] == \"Aprovade\"]\n",
        "print(df_aprovades)"
      ],
      "metadata": {
        "colab": {
          "base_uri": "https://localhost:8080/"
        },
        "id": "Tr1WV0NPF1EE",
        "outputId": "a4ee926f-47bb-4a48-9d73-ca22dd0ecb8c"
      },
      "execution_count": null,
      "outputs": [
        {
          "output_type": "stream",
          "name": "stdout",
          "text": [
            "      Nome Idade Média de notas    Status\n",
            "0       Jé    32            8.5  Aprovade\n",
            "1     Mari    25            7.8  Aprovade\n",
            "4  Brianna    45            8.9  Aprovade\n"
          ]
        }
      ]
    },
    {
      "cell_type": "code",
      "source": [
        "#Crie um DataFrame com os seguintes dados:\n",
        "#Produto: Smarthphone, Laptop, Tablet, Fone de Ouvido, SmartTV\n",
        "#Quantidade vendida: 100, 50, 80, 120, 30\n",
        "#Preço unitário (em reais): 800, 2500, 600, 80, 1800\n",
        "#Calcule a receita total para cada produto (quantidade vendida multiplicada pelo\n",
        "#preço unitário e adicione essas informações como uma nova coluna chamada\n",
        "#\"Receita\"\n",
        "#Selecione apenas os produtos que tiveram uma quantidade vendida superir a 80\n",
        "#unidades\n",
        "\n",
        "dados = {\n",
        "   \"Produto\": [\"Smarthphone\", \"Laptop\", \"Tablet\", \"Fone de Ouvido\", \"SmartTV\"],\n",
        "   \"Quantidade_vendida\": [100, 50, 80, 120, 30],\n",
        "   \"Preco_unitario\": [800, 2500, 600, 80, 1800],\n",
        "}\n",
        "\n",
        "df_dados = pd.DataFrame(dados)\n",
        "df_dados[\"Receita\"] = df_dados[\"Quantidade_vendida\"] * df_dados[\"Preco_unitario\"]\n",
        "df_produtos_mvendidos = df_dados[df_dados[\"Quantidade_vendida\"] > 80]\n",
        "\n",
        "print(df_produtos_mvendidos)"
      ],
      "metadata": {
        "id": "xEPFF4Y0KOiL",
        "colab": {
          "base_uri": "https://localhost:8080/"
        },
        "outputId": "5f6882ff-ca45-4a79-e73b-a416f48979e2"
      },
      "execution_count": 3,
      "outputs": [
        {
          "output_type": "stream",
          "name": "stdout",
          "text": [
            "          Produto  Quantidade_vendida  Preco_unitario  Receita\n",
            "0     Smarthphone                 100             800    80000\n",
            "3  Fone de Ouvido                 120              80     9600\n"
          ]
        }
      ]
    },
    {
      "cell_type": "code",
      "source": [
        "numeros = {\n",
        "    \"num1\": [1, 2, 3, 4, 5],\n",
        "    \"num2\": [6, 7, 8, 9, 10]\n",
        "}\n",
        "df_numeros = pd.DataFrame(numeros)\n",
        "\n",
        "#Soma\n",
        "df_numeros[\"Soma\"] = df_numeros[\"num1\"] + df_numeros[\"num2\"]\n",
        "\n",
        "#Subtração\n",
        "df_numeros[\"Sub\"] = df_numeros[\"num1\"] - df_numeros[\"num2\"]\n",
        "\n",
        "#Multiplicação\n",
        "df_numeros[\"Mult\"] = df_numeros[\"num1\"] * df_numeros[\"num2\"]\n",
        "\n",
        "#Divisão\n",
        "#Subtração\n",
        "df_numeros[\"Div\"] = df_numeros[\"num1\"] / df_numeros[\"num2\"]\n",
        "\n",
        "print(df_numeros)"
      ],
      "metadata": {
        "id": "FbuVDrOtRU7R",
        "colab": {
          "base_uri": "https://localhost:8080/"
        },
        "outputId": "e41a9129-299f-4b4e-833d-4bc4da1637fd"
      },
      "execution_count": 4,
      "outputs": [
        {
          "output_type": "stream",
          "name": "stdout",
          "text": [
            "   num1  num2  Soma  Sub  Mult       Div\n",
            "0     1     6     7   -5     6  0.166667\n",
            "1     2     7     9   -5    14  0.285714\n",
            "2     3     8    11   -5    24  0.375000\n",
            "3     4     9    13   -5    36  0.444444\n",
            "4     5    10    15   -5    50  0.500000\n"
          ]
        }
      ]
    },
    {
      "cell_type": "code",
      "source": [
        "#Soma dos elementos da coluna\n",
        "sum()"
      ],
      "metadata": {
        "id": "mYSZ6hctSyH6"
      },
      "execution_count": null,
      "outputs": []
    }
  ]
}